{
 "cells": [
  {
   "cell_type": "code",
   "execution_count": 7,
   "id": "c9c3d77e-e0b5-4a78-9eef-e29417663aa5",
   "metadata": {},
   "outputs": [
    {
     "name": "stdout",
     "output_type": "stream",
     "text": [
      "     case  site    Pop sex  age  hdlngth  skullw  totlngth  taill  footlgth  \\\n",
      "0       1     1    Vic   m  8.0     94.1    60.4      89.0   36.0      74.5   \n",
      "1       2     1    Vic   f  6.0     92.5    57.6      91.5   36.5      72.5   \n",
      "2       3     1    Vic   f  6.0     94.0    60.0      95.5   39.0      75.4   \n",
      "3       4     1    Vic   f  6.0     93.2    57.1      92.0   38.0      76.1   \n",
      "4       5     1    Vic   f  2.0     91.5    56.3      85.5   36.0      71.0   \n",
      "..    ...   ...    ...  ..  ...      ...     ...       ...    ...       ...   \n",
      "99    100     7  other   m  1.0     89.5    56.0      81.5   36.5      66.0   \n",
      "100   101     7  other   m  1.0     88.6    54.7      82.5   39.0      64.4   \n",
      "101   102     7  other   f  6.0     92.4    55.0      89.0   38.0      63.5   \n",
      "102   103     7  other   m  4.0     91.5    55.2      82.5   36.5      62.9   \n",
      "103   104     7  other   f  3.0     93.6    59.9      89.0   40.0      67.6   \n",
      "\n",
      "     earconch   eye  chest  belly  \n",
      "0        54.5  15.2   28.0   36.0  \n",
      "1        51.2  16.0   28.5   33.0  \n",
      "2        51.9  15.5   30.0   34.0  \n",
      "3        52.2  15.2   28.0   34.0  \n",
      "4        53.2  15.1   28.5   33.0  \n",
      "..        ...   ...    ...    ...  \n",
      "99       46.8  14.8   23.0   27.0  \n",
      "100      48.0  14.0   25.0   33.0  \n",
      "101      45.4  13.0   25.0   30.0  \n",
      "102      45.9  15.4   25.0   29.0  \n",
      "103      46.0  14.8   28.5   33.5  \n",
      "\n",
      "[104 rows x 14 columns]\n",
      "Данные успешно обработаны и сохранены в df_clear.csv\n"
     ]
    }
   ],
   "source": [
    "import warnings\n",
    "import numpy as np\n",
    "import pandas as pd\n",
    "from sklearn.exceptions import FitFailedWarning  \n",
    "from sklearn.model_selection import train_test_split, GridSearchCV\n",
    "from sklearn.linear_model import SGDClassifier, LogisticRegression\n",
    "from sklearn.ensemble import RandomForestClassifier\n",
    "from sklearn.metrics import accuracy_score, f1_score\n",
    "from sklearn.impute import SimpleImputer\n",
    "from sklearn.pipeline import make_pipeline\n",
    "from sklearn.compose import ColumnTransformer\n",
    "import mlflow\n",
    "from mlflow.models import infer_signature\n",
    "\n",
    "# Подавление предупреждений\n",
    "warnings.filterwarnings(\"ignore\", category=UserWarning)\n",
    "warnings.filterwarnings(\"ignore\", category=FitFailedWarning)\n",
    "\n",
    "# Загрузка данных\n",
    "df = pd.read_csv('https://raw.githubusercontent.com/azzrdn/Possum-Regression-Project/1fb5b851346ca03c909fb897b5bcd4a24a902a74/possum.csv')\n",
    "print(df)\n",
    "\n",
    "# Предварительная обработка\n",
    "df = df.dropna(subset=['sex'])  # Удаляем строки с NaN в целевом признаке\n",
    "df['sex'] = df['sex'].map({'m': 0, 'f': 1})  # Конвертируем в числовой формат\n",
    "df\n",
    "\n",
    "df.to_csv('df_clear.csv')\n",
    "print(\"Данные успешно обработаны и сохранены в df_clear.csv\")\n"
   ]
  },
  {
   "cell_type": "code",
   "execution_count": null,
   "id": "a0f0e552-d0d9-44be-b00c-34cb9f80ab8d",
   "metadata": {},
   "outputs": [],
   "source": []
  }
 ],
 "metadata": {
  "kernelspec": {
   "display_name": "Python 3 (ipykernel)",
   "language": "python",
   "name": "python3"
  },
  "language_info": {
   "codemirror_mode": {
    "name": "ipython",
    "version": 3
   },
   "file_extension": ".py",
   "mimetype": "text/x-python",
   "name": "python",
   "nbconvert_exporter": "python",
   "pygments_lexer": "ipython3",
   "version": "3.12.7"
  }
 },
 "nbformat": 4,
 "nbformat_minor": 5
}
